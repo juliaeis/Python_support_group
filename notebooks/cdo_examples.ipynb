{
 "cells": [
  {
   "cell_type": "code",
   "execution_count": null,
   "metadata": {},
   "outputs": [],
   "source": [
    "import cdo\n",
    "from netCDF4 import Dataset\n",
    "import os as os\n",
    "import subprocess"
   ]
  },
  {
   "cell_type": "code",
   "execution_count": null,
   "metadata": {},
   "outputs": [],
   "source": [
    "from cdo import *\n",
    "cdo = Cdo()"
   ]
  },
  {
   "cell_type": "code",
   "execution_count": null,
   "metadata": {},
   "outputs": [],
   "source": [
    "### Basic examples of cdo commands\n",
    "\n",
    "### the general syntax for cdo is: cdo <operator> inputfile outputfile\n",
    "\n",
    "### in cdo, one can also use several operators in one command line keeping this rule in mind: it starts to execute the operators from right to \n",
    "# left, so the most right operator will be executed first and the first operator in the command line will be executed last\n",
    "# furthermore, starting with the 2nd operator one needs to add a \"-\" in from of each operator, otherwise cdo will think it is a file and not an operator\n",
    "# example: cdo operator1 -operator2 ifile ofile\n",
    "\n",
    "### in python, first, one has to define the command with cmd=\"cdo <operator> inputfile outputfile\" and then run the command with res=os.system(cmd)\n",
    "\n",
    "### tip: for quick view of .nc files (maps and timeseries) you can use ncview in an ubuntu terminal, or panoply available for both ubuntu and windows\n",
    "\n",
    "### additional note: for whatever reason when files are created with cdo in python, they can only be created once, so if you have to rerun a\n",
    "# command make sure that you remove the output file first; if you run the same command in the ubuntu terminal then it would simply overwrite the\n",
    "# outputfile without any problems; for python, this seems to be some kind of bug\n",
    "\n",
    "### please do not forget to adjust the path to the input and output files; if the data has the same location as the script, then you do not need\n",
    "# to provide the path"
   ]
  },
  {
   "cell_type": "code",
   "execution_count": null,
   "metadata": {},
   "outputs": [],
   "source": [
    "# the sinfov operator displays short information about the ifile\n",
    "cmd=\"cdo sinfov ../data/tas_Amon_IPSL-CM6A-LR_ssp126_r1i1p1f1_gr_201501-210012.nc\"\n",
    "# this python command is necessary for being able to display information in python. However, in python it looks a bit messy, therefore, for quick \n",
    "# information I prefer the ubuntu terminal\n",
    "res=subprocess.run([cmd, \" \"],stdout=subprocess.PIPE,shell=True)\n",
    "res.stdout"
   ]
  },
  {
   "cell_type": "code",
   "execution_count": null,
   "metadata": {},
   "outputs": [],
   "source": [
    "# the pardes operator displays a short description of the parameter(s) contained in the ifile.\n",
    "cmd=\"cdo pardes ../data/tas_Amon_IPSL-CM6A-LR_ssp126_r1i1p1f1_gr_201501-210012.nc\"\n",
    "res=subprocess.run([cmd, \" \"],stdout=subprocess.PIPE,shell=True)\n",
    "res.stdout"
   ]
  },
  {
   "cell_type": "code",
   "execution_count": null,
   "metadata": {},
   "outputs": [],
   "source": [
    "# the timmean operator creates an output file containing the time mean (the mean over the entire period)\n",
    "cmd=\"cdo timmean ../data/tas_Amon_IPSL-CM6A-LR_ssp126_r1i1p1f1_gr_201501-210012.nc ../data/timmean.nc\"\n",
    "res=os.system(cmd)"
   ]
  },
  {
   "cell_type": "code",
   "execution_count": null,
   "metadata": {},
   "outputs": [],
   "source": [
    "# the yearmean operator creates an output file containing the mean for each year\n",
    "cmd=\"cdo yearmean ../data/tas_Amon_IPSL-CM6A-LR_ssp126_r1i1p1f1_gr_201501-210012.nc ../data/yearmean.nc\"\n",
    "res=os.system(cmd)"
   ]
  },
  {
   "cell_type": "code",
   "execution_count": null,
   "metadata": {},
   "outputs": [],
   "source": [
    "# the seasmean operator creates an output file containing the yearly mean for each season\n",
    "cmd=\"cdo seasmean ../data/tas_Amon_IPSL-CM6A-LR_ssp126_r1i1p1f1_gr_201501-210012.nc ../data/seasmean.nc\"\n",
    "res=os.system(cmd)\n",
    "# afterwards, we need one additional step, since the winter season of 2015 contains only the January and February, and the last winter season of \n",
    "# 2100 contains only the December, therefore we have to get rid of these timesteps by selecting timesteps 2 to n-1"
   ]
  },
  {
   "cell_type": "code",
   "execution_count": null,
   "metadata": {},
   "outputs": [],
   "source": [
    "# additional side note: you can see the number of timesteps by typing cdo sinfov seasmean.nc or cdo ntime seasmean.nc\n",
    "cmd=\"cdo ntime ../data/seasmean.nc\"\n",
    "res=subprocess.run([cmd, \" \"],stdout=subprocess.PIPE,shell=True)\n",
    "res.stdout"
   ]
  },
  {
   "cell_type": "code",
   "execution_count": null,
   "metadata": {},
   "outputs": [],
   "source": [
    "# side note: a \",\" would select only timesteps 2 and 344, while \"/\" represents the interval between 2 and 344\n",
    "cmd=\"cdo seltimestep,2/344 ../data/seasmean.nc ../data/seasmean_seltimestep.nc\"\n",
    "res=os.system(cmd)"
   ]
  },
  {
   "cell_type": "code",
   "execution_count": null,
   "metadata": {},
   "outputs": [],
   "source": [
    "# the selmon operator selects the months you want, in this example it selects the boreal summer months (June, July, August) of each year\n",
    "# if we additionally want to have the summer mean for each year, then we add the yearmean operator\n",
    "cmd=\"cdo yearmean -selmon,6,7,8 ../data/tas_Amon_IPSL-CM6A-LR_ssp126_r1i1p1f1_gr_201501-210012.nc ../data/JJA.nc\"\n",
    "res=os.system(cmd)"
   ]
  },
  {
   "cell_type": "code",
   "execution_count": null,
   "metadata": {},
   "outputs": [],
   "source": [
    "# the yearmax operator selects the maximum value for each year in each grid cell; so for example for temperature that would mean the warmest \n",
    "# month, or for precipitation it would mean the wettest month\n",
    "cmd=\"cdo yearmax ../data/tas_Amon_IPSL-CM6A-LR_ssp126_r1i1p1f1_gr_201501-210012.nc ../data/yearmax.nc\"\n",
    "res=os.system(cmd)"
   ]
  },
  {
   "cell_type": "code",
   "execution_count": null,
   "metadata": {},
   "outputs": [],
   "source": [
    "# same as yearmax, but for minimum values\n",
    "cmd=\"cdo yearmin ../data/tas_Amon_IPSL-CM6A-LR_ssp126_r1i1p1f1_gr_201501-210012.nc ../data/yearmin.nc\"\n",
    "res=os.system(cmd)"
   ]
  },
  {
   "cell_type": "code",
   "execution_count": null,
   "metadata": {},
   "outputs": [],
   "source": [
    "# the ymonmean operator calculates the multiyear monthly mean, so the mean over all Januaries, the mean over all Februaries and so on\n",
    "cmd=\"cdo ymonmean ../data/tas_Amon_IPSL-CM6A-LR_ssp126_r1i1p1f1_gr_201501-210012.nc ../data/ymonmean.nc\"\n",
    "res=os.system(cmd)"
   ]
  },
  {
   "cell_type": "code",
   "execution_count": null,
   "metadata": {},
   "outputs": [],
   "source": [
    "# the remapbil operator can be used for regridding the data if you want a higher or coarser resolution or if you want to perform a model\n",
    "# intercomparison, using models on different grid resolutions; so for example to regrid to a 1x1° resolution one would type:\n",
    "cmd=\"cdo remapbil,r360x180 ../data/timmean.nc ../data/timmean_remapbil.nc\"\n",
    "res=os.system(cmd)"
   ]
  },
  {
   "cell_type": "code",
   "execution_count": null,
   "metadata": {},
   "outputs": [],
   "source": [
    "# with remapbil one can also select the values at a specific location, in this example the coordinates of Bremen are given\n",
    "cmd=\"cdo remapbil,lon=8.8017/lat=53.0793 ../data/timmean.nc ../data/timmean_remapbil_bremen.nc\"\n",
    "res=os.system(cmd)\n",
    "# if we want to quickly display the average temperature value for Bremen, we need the output operator\n",
    "cmd=\"cdo output ../data/timmean_remapbil_bremen.nc\"\n",
    "res=subprocess.run([cmd, \" \"],stdout=subprocess.PIPE,shell=True)\n",
    "res.stdout"
   ]
  },
  {
   "cell_type": "code",
   "execution_count": null,
   "metadata": {},
   "outputs": [],
   "source": [
    "# and if we want it in degrees Celsius, we need to subtract 273.15 with the subc operator (\"sub\" for subtract and \"c\" for constant)\n",
    "cmd=\"cdo output -subc,273.15 ../data/timmean_remapbil_bremen.nc\"\n",
    "res=subprocess.run([cmd, \" \"],stdout=subprocess.PIPE,shell=True)\n",
    "res.stdout"
   ]
  },
  {
   "cell_type": "code",
   "execution_count": null,
   "metadata": {},
   "outputs": [],
   "source": [
    "# with the sellonlatbox one can select a particular box\n",
    "cmd=\"cdo sellonlatbox,0,30,50,70 ../data/timmean_remapbil.nc ../data/sellonlatbox.nc\"\n",
    "res=os.system(cmd)"
   ]
  },
  {
   "cell_type": "code",
   "execution_count": null,
   "metadata": {},
   "outputs": [],
   "source": [
    "# if you want to know the global mean, you can use the fldmean operator\n",
    "cmd=\"cdo fldmean ../data/tas_Amon_IPSL-CM6A-LR_ssp126_r1i1p1f1_gr_201501-210012.nc ../data/fldmean.nc\"\n",
    "res=os.system(cmd)"
   ]
  },
  {
   "cell_type": "code",
   "execution_count": null,
   "metadata": {},
   "outputs": [],
   "source": [
    "# this command line calculates first the time mean and afterwards the global mean\n",
    "cmd=\"cdo fldmean -timmean ../data/tas_Amon_IPSL-CM6A-LR_ssp126_r1i1p1f1_gr_201501-210012.nc ../data/fldmean_timmean.nc\"\n",
    "res=os.system(cmd)\n",
    "# if we want to see the global temperature mean in deg Celsius\n",
    "cmd=\"cdo output -subc,273.15 ../data/fldmean_timmean.nc\"\n",
    "res=subprocess.run([cmd, \" \"],stdout=subprocess.PIPE,shell=True)\n",
    "res.stdout"
   ]
  },
  {
   "cell_type": "code",
   "execution_count": null,
   "metadata": {},
   "outputs": [],
   "source": [
    "# one can also use fldmean to calculate the mean value inside a particular box for each timestep\n",
    "cmd=\"cdo fldmean -sellonlatbox,0,30,50,70 ../data/tas_Amon_IPSL-CM6A-LR_ssp126_r1i1p1f1_gr_201501-210012.nc ../data/sellonlatbox_fldmean.nc\"\n",
    "res=os.system(cmd)"
   ]
  },
  {
   "cell_type": "code",
   "execution_count": null,
   "metadata": {},
   "outputs": [],
   "source": [
    "# the selyear operator select the year(s) you want\n",
    "cmd=\"cdo selyear,2015 ../data/tas_Amon_IPSL-CM6A-LR_ssp126_r1i1p1f1_gr_201501-210012.nc ../data/2015.nc\"\n",
    "res=os.system(cmd)"
   ]
  },
  {
   "cell_type": "code",
   "execution_count": null,
   "metadata": {},
   "outputs": [],
   "source": [
    "# for calculating and extracting the mean of the year you choose, yo can do it by different approaches\n",
    "# either select first the year and then calculate the mean with timmean or yearmean (in this case they operate the same)\n",
    "cmd=\"cdo timmean -selyear,2015 ../data/tas_Amon_IPSL-CM6A-LR_ssp126_r1i1p1f1_gr_201501-210012.nc ../data/2015_timmean.nc\"\n",
    "res=os.system(cmd)"
   ]
  },
  {
   "cell_type": "code",
   "execution_count": null,
   "metadata": {},
   "outputs": [],
   "source": [
    "# or first calculate the mean for each year and then extract the year of choise; this example is meant to show the flexibility of cdo\n",
    "cmd=\"cdo selyear,2015 -yearmean ../data/tas_Amon_IPSL-CM6A-LR_ssp126_r1i1p1f1_gr_201501-210012.nc ../data/2015_timmean.nc\"\n",
    "res=os.system(cmd)"
   ]
  },
  {
   "cell_type": "code",
   "execution_count": null,
   "metadata": {},
   "outputs": [],
   "source": [
    "# and if you want to know the global mean of year 2015 you can type the following command\n",
    "cmd=\"cdo fldmean -timmean -selyear,2015 ../data/tas_Amon_IPSL-CM6A-LR_ssp126_r1i1p1f1_gr_201501-210012.nc ../data/2015_timmean.nc\"\n",
    "res=os.system(cmd)\n",
    "cmd=\"cdo output -subc,273.15 ../data/2015_timmean.nc\"\n",
    "res=subprocess.run([cmd, \" \"],stdout=subprocess.PIPE,shell=True)\n",
    "res.stdout"
   ]
  },
  {
   "cell_type": "code",
   "execution_count": null,
   "metadata": {},
   "outputs": [],
   "source": [
    "# one can of course also calculate the trend over the whole period, in this example for global average;\n",
    "# for this operator, we need two output files: the first one stores the intercept and the 2nd one the slope (our trend)\n",
    "cmd=\"cdo trend -fldmean ../data/tas_Amon_IPSL-CM6A-LR_ssp126_r1i1p1f1_gr_201501-210012.nc ../data/intercept.nc ../data/slope.nc\"\n",
    "res=os.system(cmd)\n",
    "cmd=\"cdo output ../data/slope.nc\"\n",
    "res=subprocess.run([cmd, \" \"],stdout=subprocess.PIPE,shell=True)\n",
    "res.stdout"
   ]
  },
  {
   "cell_type": "code",
   "execution_count": null,
   "metadata": {},
   "outputs": [],
   "source": [
    "# however, this is the monthly trend, so if we want it over the whole period, we need to multiply by the number of timesteps\n",
    "cmd=\"cdo output -mulc,345 ../data/slope.nc\"\n",
    "res=subprocess.run([cmd, \" \"],stdout=subprocess.PIPE,shell=True)\n",
    "res.stdout"
   ]
  },
  {
   "cell_type": "code",
   "execution_count": null,
   "metadata": {},
   "outputs": [],
   "source": [
    "# the mergetime operator can be used if one wants to merge two or more files\n",
    "cmd=\"cdo mergetime ../data/tas_Amon_IPSL-CM6A-LR_ssp126_r1i1p1f1_gr_201501-210012.nc ../data/tas_Amon_IPSL-CM6A-LR_ssp126_r1i1p1f1_gr_210101-230012.nc ../data/2015-2300.nc\"\n",
    "res=os.system(cmd)"
   ]
  },
  {
   "cell_type": "code",
   "execution_count": 151,
   "metadata": {},
   "outputs": [
    {
     "data": {
      "text/plain": [
       "b'     0.157773\\n'"
      ]
     },
     "execution_count": 151,
     "metadata": {},
     "output_type": "execute_result"
    }
   ],
   "source": [
    "# for the anomaly between two files, one can use the sub operator, which calculates the difference for each gridcell and each timestep\n",
    "# however, it is important to keep in mind that both files have to have the same grid and same number of timesteps\n",
    "# so since in our example the two files have a different number of timesteps, I calculated first the time mean for each file, and then the anomaly\n",
    "# followed by the fldmean if I want to see the global anomaly value, if you want to see the anomaly map, you can quickly open it with ncview or\n",
    "# panoply or load the output file and plot it in python ;o); for the map, you would skip the fldmean operator\n",
    "cmd=\"cdo fldmean -sub -timmean ../data/tas_Amon_IPSL-CM6A-LR_ssp126_r1i1p1f1_gr_201501-210012.nc -timmean ../data/tas_Amon_IPSL-CM6A-LR_ssp126_r1i1p1f1_gr_210101-230012.nc ../data/2015-2300_ann.nc\"\n",
    "res=os.system(cmd)\n",
    "cmd=\"cdo output ../data/2015-2300_ann.nc\"\n",
    "res=subprocess.run([cmd, \" \"],stdout=subprocess.PIPE,shell=True)\n",
    "res.stdout"
   ]
  },
  {
   "cell_type": "code",
   "execution_count": null,
   "metadata": {},
   "outputs": [],
   "source": []
  }
 ],
 "metadata": {
  "kernelspec": {
   "display_name": "Python 3",
   "language": "python",
   "name": "python3"
  },
  "language_info": {
   "codemirror_mode": {
    "name": "ipython",
    "version": 3
   },
   "file_extension": ".py",
   "mimetype": "text/x-python",
   "name": "python",
   "nbconvert_exporter": "python",
   "pygments_lexer": "ipython3",
   "version": "3.7.5"
  }
 },
 "nbformat": 4,
 "nbformat_minor": 4
}
