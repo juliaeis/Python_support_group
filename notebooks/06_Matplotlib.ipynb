{
 "cells": [
  {
   "cell_type": "markdown",
   "metadata": {},
   "source": [
    "# Introduction to Matplotlib"
   ]
  },
  {
   "cell_type": "code",
   "execution_count": null,
   "metadata": {},
   "outputs": [],
   "source": [
    "import matplotlib.pyplot as plt\n",
    "import numpy as np\n",
    "\n",
    "# plot will apear inside the notebook\n",
    "%matplotlib inline "
   ]
  },
  {
   "cell_type": "markdown",
   "metadata": {},
   "source": [
    "### Basic plotting\n",
    "The main plotting function is called `plot`:"
   ]
  },
  {
   "cell_type": "code",
   "execution_count": null,
   "metadata": {},
   "outputs": [],
   "source": [
    "plt.plot([1,2,3,6,4,2,3,4]); # ; to supress text-output"
   ]
  },
  {
   "cell_type": "markdown",
   "metadata": {},
   "source": [
    "In the above example, we only gave a single list, so it will assume the x values are the indices of the list/array.\n",
    "\n",
    "However, we can instead specify the x values:"
   ]
  },
  {
   "cell_type": "code",
   "execution_count": null,
   "metadata": {},
   "outputs": [],
   "source": [
    "plt.plot([3.3, 4.4, 4.5, 6.5], [3., 5., 6., 7.]);"
   ]
  },
  {
   "cell_type": "markdown",
   "metadata": {},
   "source": [
    "Matplotlib can take Numpy arrays, so we can do for example:\n",
    "\n",
    "The `np.linspace` function returns evenly spaced numbers over a specified interval: "
   ]
  },
  {
   "cell_type": "code",
   "execution_count": null,
   "metadata": {},
   "outputs": [],
   "source": [
    "import numpy as np\n",
    "x = np.linspace(0., 10., 50)\n",
    "x"
   ]
  },
  {
   "cell_type": "code",
   "execution_count": null,
   "metadata": {},
   "outputs": [],
   "source": [
    "y = np.sin(x) # calculates the sinus funktion for each value in x\n",
    "plt.plot(x,y);"
   ]
  },
  {
   "cell_type": "markdown",
   "metadata": {},
   "source": [
    "The plot function is actually quite complex, and for example can take arguments specifying the type of point, the color of the line, and the width of the line:"
   ]
  },
  {
   "cell_type": "code",
   "execution_count": null,
   "metadata": {},
   "outputs": [],
   "source": [
    "plt.plot(x, y, marker='o', color='green', linewidth=2);"
   ]
  },
  {
   "cell_type": "markdown",
   "metadata": {},
   "source": [
    "The line can be hidden with:"
   ]
  },
  {
   "cell_type": "code",
   "execution_count": null,
   "metadata": {},
   "outputs": [],
   "source": [
    "plt.plot(x, y, marker='o', color='green', linewidth=0);"
   ]
  },
  {
   "cell_type": "markdown",
   "metadata": {},
   "source": [
    "This is equivalent to: "
   ]
  },
  {
   "cell_type": "code",
   "execution_count": null,
   "metadata": {},
   "outputs": [],
   "source": [
    "plt.plot(x,y,'go');  # where g stands for the color and o the marker"
   ]
  },
  {
   "cell_type": "markdown",
   "metadata": {},
   "source": [
    "Multiple lines and legend"
   ]
  },
  {
   "cell_type": "code",
   "execution_count": null,
   "metadata": {},
   "outputs": [],
   "source": [
    "# to plot more than one line and labeling just call one plot function the after the other\n",
    "plt.plot(x,np.sin(x), label='sin(x)')\n",
    "plt.plot(x,np.cos(x), label='cos(x)')\n",
    "plt.plot(x,np.sin(x)+2, label='sin(x)+2')\n",
    "plt.plot(x,np.cos(x)+2, label='cos(x)+2');\n",
    "plt.legend(title='function', loc=1); #title and loc arguments are not needed, loc=0 by default"
   ]
  },
  {
   "cell_type": "markdown",
   "metadata": {},
   "source": [
    "loc=... specify the location of the legend: \n",
    "\n",
    "![](plots/legend_loc.png)"
   ]
  },
  {
   "cell_type": "markdown",
   "metadata": {},
   "source": [
    "The legend can also be outside of the figure. Therefore the bbox_to_anchor=(x,y) can be setted. the box is shifted from loc by x and y. x=1, y=1 mean no shift."
   ]
  },
  {
   "cell_type": "code",
   "execution_count": null,
   "metadata": {},
   "outputs": [],
   "source": [
    "plt.plot(x,np.sin(x), label='sin(x)')\n",
    "plt.plot(x,np.cos(x), label='cos(x)')\n",
    "plt.plot(x,np.sin(x)+2, label='sin(x)+2')\n",
    "plt.plot(x,np.cos(x)+2, label='cos(x)+2');\n",
    "plt.legend(title='function', loc=1, bbox_to_anchor=(1, 1));  # bbox_to_anchor(x,y) shift the legend from loc by x and y"
   ]
  },
  {
   "cell_type": "markdown",
   "metadata": {},
   "source": [
    "To use different linestyle you can specify the linestyle argument. "
   ]
  },
  {
   "cell_type": "code",
   "execution_count": null,
   "metadata": {},
   "outputs": [],
   "source": [
    "plt.plot(x,np.sin(x),color='C0')\n",
    "plt.plot(x,np.cos(x), color='C1')\n",
    "plt.plot(x,np.sin(x)+2, linestyle='--', color='C0')\n",
    "plt.plot(x,np.cos(x)+2, linestyle='--', color='C1');\n",
    "plt.plot(x,np.sin(x)+4, linestyle='-.', color='C0')\n",
    "plt.plot(x,np.cos(x)+4, linestyle='-.', color='C1');\n",
    "plt.plot(x,np.sin(x)+6, linestyle=':', color='C0')\n",
    "plt.plot(x,np.cos(x)+6, linestyle=':', color='C1');"
   ]
  },
  {
   "cell_type": "markdown",
   "metadata": {},
   "source": [
    "Colorcycles\n",
    "\n",
    "![](plots/color_cycle.png)"
   ]
  },
  {
   "cell_type": "markdown",
   "metadata": {},
   "source": [
    "Titles, x and y labels"
   ]
  },
  {
   "cell_type": "code",
   "execution_count": null,
   "metadata": {},
   "outputs": [],
   "source": [
    "plt.plot(x,np.sin(x))\n",
    "plt.plot(x,np.cos(x))\n",
    "plt.title('Sinus and Cosinus')\n",
    "plt.xlabel('x')\n",
    "plt.ylabel('y');\n"
   ]
  },
  {
   "cell_type": "markdown",
   "metadata": {},
   "source": [
    "Setting the x and y range:"
   ]
  },
  {
   "cell_type": "code",
   "execution_count": null,
   "metadata": {},
   "outputs": [],
   "source": [
    "x=np.linspace(-2*np.pi,2*np.pi,100)\n",
    "plt.plot(x,np.sin(x), label='sin(x)');\n",
    "#plt.xlim(-np.pi,np.pi)\n",
    "#plt.ylim(-10,10)\n",
    "#plt.xlim(None,10)"
   ]
  },
  {
   "cell_type": "markdown",
   "metadata": {},
   "source": [
    "Changing the tick  positions: "
   ]
  },
  {
   "cell_type": "code",
   "execution_count": null,
   "metadata": {},
   "outputs": [],
   "source": [
    "x=np.linspace(-2*np.pi,2*np.pi,100)\n",
    "plt.plot(x,np.sin(x))\n",
    "plt.xticks([-2*np.pi,-np.pi,0,np.pi,2*np.pi]);"
   ]
  },
  {
   "cell_type": "markdown",
   "metadata": {},
   "source": [
    "Changing the tick positions and labels:"
   ]
  },
  {
   "cell_type": "code",
   "execution_count": null,
   "metadata": {},
   "outputs": [],
   "source": [
    "x=np.linspace(-2*np.pi,2*np.pi,100)\n",
    "plt.plot(x,np.sin(x))\n",
    "plt.xticks([-2*np.pi,-np.pi,0,np.pi,2*np.pi],['-2pi','-pi','0','pi','2pi']);\n",
    "#plt.xticks([-2*np.pi,-np.pi,0,np.pi,2*np.pi],[r'$-2\\pi$',r'$-\\pi$','0',r'$\\pi$',r'$2\\pi$']);"
   ]
  },
  {
   "cell_type": "code",
   "execution_count": null,
   "metadata": {},
   "outputs": [],
   "source": [
    "x=np.linspace(-2*np.pi,2*np.pi,100)\n",
    "plt.plot(x,np.sin(x))\n",
    "plt.plot(x,np.cos(x))\n",
    "plt.xlim(0,2*np.pi)\n",
    "plt.xticks([0,np.pi/2, np.pi,(3/2)*np.pi,2*np.pi],['0',r'$\\frac{1}{2}\\pi$',r'$\\pi$', r'$\\frac{3}{2}\\pi$',r'$2\\pi$']);\n",
    "#plt.xticks([0,np.pi/2, np.pi,(3/2)*np.pi,2*np.pi],[r'$0^\\circ$',r'$90^\\circ$',r'$180^\\circ$', r'$270^\\circ$',r'$360^\\circ$'],rotation=0);"
   ]
  },
  {
   "cell_type": "markdown",
   "metadata": {},
   "source": [
    "Adding a grid (at the ticks positions):"
   ]
  },
  {
   "cell_type": "code",
   "execution_count": null,
   "metadata": {},
   "outputs": [],
   "source": [
    "x=np.linspace(-2*np.pi,2*np.pi,100)\n",
    "plt.plot(x,np.sin(x))\n",
    "plt.plot(x,np.cos(x))\n",
    "plt.xlim(0,2*np.pi)\n",
    "plt.xticks([0,np.pi/2, np.pi,(3/2)*np.pi,2*np.pi],['0',r'$\\frac{1}{2}\\pi$',r'$\\pi$', r'$\\frac{3}{2}\\pi$',r'$2\\pi$']);\n",
    "plt.grid()\n",
    "#plt.grid(color='r', linestyle='-', linewidth=2, alpha=1)"
   ]
  },
  {
   "cell_type": "markdown",
   "metadata": {},
   "source": [
    "Add text in figure:"
   ]
  },
  {
   "cell_type": "code",
   "execution_count": null,
   "metadata": {},
   "outputs": [],
   "source": [
    "x=np.linspace(-2*np.pi,2*np.pi,100)\n",
    "plt.plot(x,np.sin(x));\n",
    "plt.text(0,0,'Text') # plt.text(x,y,s) add text s to the axes at location x, y in data coordinates."
   ]
  },
  {
   "cell_type": "markdown",
   "metadata": {},
   "source": [
    "Change font sizes:\n"
   ]
  },
  {
   "cell_type": "code",
   "execution_count": null,
   "metadata": {},
   "outputs": [],
   "source": [
    "plt.plot(x,np.sin(x), label='sin(x)')\n",
    "plt.plot(x,np.cos(x), label='cos(x)')\n",
    "\n",
    "plt.title('Sinus and Cosinus');\n",
    "#plt.title('Sinus and Cosinus', fontsize=25)\n",
    "\n",
    "plt.xlabel('x')\n",
    "plt.ylabel('y');\n",
    "#plt.xlabel('x', fontsize=20)\n",
    "#plt.ylabel('y', fontsize=20);\n",
    "\n",
    "plt.legend(title='function')\n",
    "#plt.legend(title='function', fontsize=20, title_fontsize=25);\n",
    "\n",
    "plt.xticks([-2*np.pi,-np.pi,0,np.pi,2*np.pi],[r'$-2\\pi$',r'$-\\pi$','0','$\\pi$','$2\\pi$']);\n",
    "#plt.xticks([-2*np.pi,-np.pi,0,np.pi,2*np.pi],[r'$-2\\pi$',r'$-\\pi$','0','$\\pi$','$2\\pi$'], fontsize=15);\n",
    "\n",
    "#plt.yticks(fontsize=15);"
   ]
  },
  {
   "cell_type": "markdown",
   "metadata": {},
   "source": [
    "To set styles globally (for all figures the same):"
   ]
  },
  {
   "cell_type": "code",
   "execution_count": null,
   "metadata": {},
   "outputs": [],
   "source": [
    "import matplotlib as mpl\n",
    "\n",
    "# axes parameters\n",
    "mpl.rcParams['axes.linewidth'] = 3\n",
    "mpl.rcParams['axes.labelweight'] = 'medium' #weight of the x and y labels\n",
    "\n",
    "# x and ytick parameters\n",
    "mpl.rcParams['xtick.major.width'] = 3\n",
    "mpl.rcParams['xtick.major.size'] = 3\n",
    "mpl.rcParams['ytick.major.width'] = 3\n",
    "mpl.rcParams['ytick.minor.width'] = 2\n",
    "\n",
    "# font sizes\n",
    "mpl.rcParams['font.size'] =25\n",
    "mpl.rcParams['legend.fontsize'] = 20\n",
    "mpl.rcParams['legend.title_fontsize'] = 15\n",
    "\n",
    "\n",
    "# lines\n",
    "mpl.rcParams['lines.linewidth'] = 3"
   ]
  },
  {
   "cell_type": "code",
   "execution_count": null,
   "metadata": {},
   "outputs": [],
   "source": [
    "plt.plot(x,np.sin(x), label='sin(x)')\n",
    "plt.plot(x,np.cos(x), label='cos(x)')\n",
    "plt.legend(title='function');"
   ]
  },
  {
   "cell_type": "markdown",
   "metadata": {},
   "source": [
    "Much, much more infos about style can be found [here:](https://matplotlib.org/3.1.1/tutorials/introductory/customizing.html)"
   ]
  },
  {
   "cell_type": "markdown",
   "metadata": {},
   "source": [
    "#### ToDO: \n",
    "- figure size\n",
    "- savefig"
   ]
  },
  {
   "cell_type": "code",
   "execution_count": null,
   "metadata": {},
   "outputs": [],
   "source": []
  },
  {
   "cell_type": "code",
   "execution_count": null,
   "metadata": {},
   "outputs": [],
   "source": []
  },
  {
   "cell_type": "code",
   "execution_count": null,
   "metadata": {},
   "outputs": [],
   "source": []
  },
  {
   "cell_type": "markdown",
   "metadata": {},
   "source": [
    "### Exercise 1\n",
    "#### Part 1\n",
    "It turns out that decorating your Christmas tree isn't necessarily all about taste. Mathematicians at the University of Sheffield in the UK have developed a formula for the perfect way to deck the halls. More specifically, what ratio of ornaments to lights to tinsel will make your tree most aesthetically pleasing"
   ]
  },
  {
   "cell_type": "markdown",
   "metadata": {},
   "source": [
    "<img src=plots/tree_formula.jpg style=\"width:500px\">\n",
    "Create a plot using the formulas above. The x axis should be the heigth of trees (starting from 50 cm up to 300 cm). Label the plot properly! Use the numpy package for the $\\sqrt{x}$ operation and for $\\pi$."
   ]
  },
  {
   "cell_type": "markdown",
   "metadata": {},
   "source": [
    "### Side note on functions"
   ]
  },
  {
   "cell_type": "markdown",
   "metadata": {},
   "source": [
    "You now know how to run Python code, assign variables, and write control flow statements, which allows us to write programs that can do calculations. In fact, this is all you really need to write programs (except for being able to read in and write out data which we will talk about later). However, with only this, programs will quickly become very long and unreadable. So one very important rule in programming is to avoid repetition.\n",
    "\n",
    "The syntax for a function is:\n",
    "```python\n",
    "def function_name(arguments):\n",
    "    # code here\n",
    "    return values\n",
    "```\n",
    "\n",
    "Functions are the building blocks of programs - think of them as basic units that are given a certain input an accomplish a certain task. Over time, you can build up more complex programs while preserving readability.\n",
    "\n",
    "Similarly to if statements and for and while loops, indentation is very important because it shows where the function starts and ends.\n",
    "\n",
    "Note: it is a common convention to always use lowercase names for functions.\n",
    "\n",
    "A function can take multiple arguments...\n"
   ]
  },
  {
   "cell_type": "code",
   "execution_count": null,
   "metadata": {},
   "outputs": [],
   "source": [
    "def add(a, b):\n",
    "    return a + b\n",
    "\n",
    "print(add(1,3))\n",
    "print(add(1.,3.2))\n",
    "print(add(4,3.))\n",
    "\n"
   ]
  },
  {
   "cell_type": "markdown",
   "metadata": {},
   "source": [
    "... and can also return multiple values:"
   ]
  },
  {
   "cell_type": "code",
   "execution_count": null,
   "metadata": {},
   "outputs": [],
   "source": [
    "def double_and_halve(value):\n",
    "    return value * 2., value / 2.\n",
    "\n",
    "print(double_and_halve(5.))\n",
    "\n"
   ]
  },
  {
   "cell_type": "markdown",
   "metadata": {},
   "source": [
    "If multiple values are returned, you can store them in separate variables."
   ]
  },
  {
   "cell_type": "code",
   "execution_count": null,
   "metadata": {},
   "outputs": [],
   "source": [
    "d, h = double_and_halve(5.)"
   ]
  },
  {
   "cell_type": "code",
   "execution_count": null,
   "metadata": {},
   "outputs": [],
   "source": [
    "print(d)\n",
    "print(h)"
   ]
  },
  {
   "cell_type": "markdown",
   "metadata": {},
   "source": [
    "In addition to normal arguments, functions can take optional arguments that can default to a certain value. For example, in the following case:"
   ]
  },
  {
   "cell_type": "code",
   "execution_count": null,
   "metadata": {},
   "outputs": [],
   "source": [
    "def say_hello(first_name, middle_name='', last_name=''):\n",
    "    print(\"Hello, \" + first_name, end = '')\n",
    "    if middle_name != '':\n",
    "        print(\" \" + middle_name, end = '')\n",
    "    if last_name != '':\n",
    "        print(\" \" + last_name+ '!')\n"
   ]
  },
  {
   "cell_type": "code",
   "execution_count": null,
   "metadata": {},
   "outputs": [],
   "source": [
    "say_hello(\"Michael\")"
   ]
  },
  {
   "cell_type": "code",
   "execution_count": null,
   "metadata": {},
   "outputs": [],
   "source": [
    "say_hello(\"Michael\", last_name=\"Palin\")"
   ]
  },
  {
   "cell_type": "code",
   "execution_count": null,
   "metadata": {},
   "outputs": [],
   "source": [
    "say_hello(\"Michael\", middle_name=\"Edward\", last_name=\"Palin\")"
   ]
  },
  {
   "cell_type": "markdown",
   "metadata": {},
   "source": [
    "#### Input function"
   ]
  },
  {
   "cell_type": "code",
   "execution_count": null,
   "metadata": {},
   "outputs": [],
   "source": [
    "x = input('Enter your first name:')\n",
    "y = input('Enter your middle name:')\n",
    "z = input('enter your last name:')"
   ]
  },
  {
   "cell_type": "code",
   "execution_count": null,
   "metadata": {},
   "outputs": [],
   "source": [
    "say_hello(x, middle_name=y,last_name=z)"
   ]
  },
  {
   "cell_type": "markdown",
   "metadata": {},
   "source": [
    "### Exercise 1\n",
    "#### Part 2\n",
    "Ben wants to know the perfect height of his christmas tree this year. Ask him how many candles he has (use the input function) and calculate the heigh of the tree. Assume that the candles have a distance from 50 cm to each other. Tell him also the number of ornaments, the height of the star and the length of tinsel! Write your code in a function! "
   ]
  },
  {
   "cell_type": "code",
   "execution_count": null,
   "metadata": {},
   "outputs": [],
   "source": []
  },
  {
   "cell_type": "code",
   "execution_count": null,
   "metadata": {},
   "outputs": [],
   "source": []
  },
  {
   "cell_type": "code",
   "execution_count": null,
   "metadata": {},
   "outputs": [],
   "source": []
  },
  {
   "cell_type": "code",
   "execution_count": null,
   "metadata": {},
   "outputs": [],
   "source": []
  }
 ],
 "metadata": {
  "kernelspec": {
   "display_name": "Python 3",
   "language": "python",
   "name": "python3"
  },
  "language_info": {
   "codemirror_mode": {
    "name": "ipython",
    "version": 3
   },
   "file_extension": ".py",
   "mimetype": "text/x-python",
   "name": "python",
   "nbconvert_exporter": "python",
   "pygments_lexer": "ipython3",
   "version": "3.6.7"
  }
 },
 "nbformat": 4,
 "nbformat_minor": 4
}
